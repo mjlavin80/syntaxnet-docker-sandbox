{
 "cells": [
  {
   "cell_type": "code",
   "execution_count": 13,
   "metadata": {
    "collapsed": false
   },
   "outputs": [
    {
     "name": "stderr",
     "output_type": "stream",
     "text": [
      "/root/models/syntaxnet/syntaxnet/lavin.sh: 3: /root/models/syntaxnet/syntaxnet/lavin.sh: [[: not found\n",
      "I syntaxnet/term_frequency_map.cc:101] Loaded 46 terms from syntaxnet/models/parsey_mcparseface/label-map.\n",
      "I syntaxnet/term_frequency_map.cc:101] Loaded 46 terms from syntaxnet/models/parsey_mcparseface/label-map.\n",
      "I syntaxnet/embedding_feature_extractor.cc:35] Features: stack.child(1).label stack.child(1).sibling(-1).label stack.child(-1).label stack.child(-1).sibling(1).label stack.child(2).label stack.child(-2).label stack(1).child(1).label stack(1).child(1).sibling(-1).label stack(1).child(-1).label stack(1).child(-1).sibling(1).label stack(1).child(2).label stack(1).child(-2).label; input.token.tag input(1).token.tag input(2).token.tag input(3).token.tag stack.token.tag stack.child(1).token.tag stack.child(1).sibling(-1).token.tag stack.child(-1).token.tag stack.child(-1).sibling(1).token.tag stack.child(2).token.tag stack.child(-2).token.tag stack(1).token.tag stack(1).child(1).token.tag stack(1).child(1).sibling(-1).token.tag stack(1).child(-1).token.tag stack(1).child(-1).sibling(1).token.tag stack(1).child(2).token.tag stack(1).child(-2).token.tag stack(2).token.tag stack(3).token.tag; input.token.word input(1).token.word input(2).token.word input(3).token.word stack.token.word stack.child(1).token.word stack.child(1).sibling(-1).token.word stack.child(-1).token.word stack.child(-1).sibling(1).token.word stack.child(2).token.word stack.child(-2).token.word stack(1).token.word stack(1).child(1).token.word stack(1).child(1).sibling(-1).token.word stack(1).child(-1).token.word stack(1).child(-1).sibling(1).token.word stack(1).child(2).token.word stack(1).child(-2).token.word stack(2).token.word stack(3).token.word \n",
      "I syntaxnet/embedding_feature_extractor.cc:36] Embedding names: labels;tags;words\n",
      "I syntaxnet/embedding_feature_extractor.cc:37] Embedding dims: 32;32;64\n",
      "I syntaxnet/embedding_feature_extractor.cc:35] Features: input.digit input.hyphen; input.prefix(length=\"2\") input(1).prefix(length=\"2\") input(2).prefix(length=\"2\") input(3).prefix(length=\"2\") input(-1).prefix(length=\"2\") input(-2).prefix(length=\"2\") input(-3).prefix(length=\"2\") input(-4).prefix(length=\"2\"); input.prefix(length=\"3\") input(1).prefix(length=\"3\") input(2).prefix(length=\"3\") input(3).prefix(length=\"3\") input(-1).prefix(length=\"3\") input(-2).prefix(length=\"3\") input(-3).prefix(length=\"3\") input(-4).prefix(length=\"3\"); input.suffix(length=\"2\") input(1).suffix(length=\"2\") input(2).suffix(length=\"2\") input(3).suffix(length=\"2\") input(-1).suffix(length=\"2\") input(-2).suffix(length=\"2\") input(-3).suffix(length=\"2\") input(-4).suffix(length=\"2\"); input.suffix(length=\"3\") input(1).suffix(length=\"3\") input(2).suffix(length=\"3\") input(3).suffix(length=\"3\") input(-1).suffix(length=\"3\") input(-2).suffix(length=\"3\") input(-3).suffix(length=\"3\") input(-4).suffix(length=\"3\"); input.token.word input(1).token.word input(2).token.word input(3).token.word input(-1).token.word input(-2).token.word input(-3).token.word input(-4).token.word \n",
      "I syntaxnet/embedding_feature_extractor.cc:36] Embedding names: other;prefix2;prefix3;suffix2;suffix3;words\n",
      "I syntaxnet/embedding_feature_extractor.cc:37] Embedding dims: 8;16;16;16;16;64\n",
      "I syntaxnet/term_frequency_map.cc:101] Loaded 49 terms from syntaxnet/models/parsey_mcparseface/tag-map.\n",
      "I syntaxnet/term_frequency_map.cc:101] Loaded 64036 terms from syntaxnet/models/parsey_mcparseface/word-map.\n",
      "I syntaxnet/term_frequency_map.cc:101] Loaded 64036 terms from syntaxnet/models/parsey_mcparseface/word-map.\n",
      "I syntaxnet/term_frequency_map.cc:101] Loaded 49 terms from syntaxnet/models/parsey_mcparseface/tag-map.\n",
      "INFO:tensorflow:Building training network with parameters: feature_sizes: [12 20 20] domain_sizes: [   49    51 64038]\n",
      "INFO:tensorflow:Created variable step:0 with shape () and init <function OnesInitializer at 0x7f6dea5eba28>\n",
      "INFO:tensorflow:Building training network with parameters: feature_sizes: [2 8 8 8 8 8] domain_sizes: [    5 10665 10665  8970  8970 64038]\n",
      "INFO:tensorflow:Created variable embedding_matrix_0:0 with shape (49, 32) and init <function _initializer at 0x7f6dea5ebde8>\n",
      "INFO:tensorflow:Created variable step:0 with shape () and init <function OnesInitializer at 0x7f538d33ba28>\n",
      "INFO:tensorflow:Created variable embedding_matrix_0:0 with shape (5, 8) and init <function _initializer at 0x7f538d33bd70>\n",
      "INFO:tensorflow:Created variable embedding_matrix_1:0 with shape (51, 32) and init <function _initializer at 0x7f6de856a398>\n",
      "INFO:tensorflow:Created variable embedding_matrix_1:0 with shape (10665, 16) and init <function _initializer at 0x7f53892b6398>\n",
      "INFO:tensorflow:Created variable embedding_matrix_2:0 with shape (64038, 64) and init <function _initializer at 0x7f6dea5ebde8>\n",
      "INFO:tensorflow:Created variable embedding_matrix_2:0 with shape (10665, 16) and init <function _initializer at 0x7f538d33bd70>\n",
      "INFO:tensorflow:Created variable weights_0:0 with shape (2304, 512) and init <function _initializer at 0x7f6de844baa0>\n",
      "INFO:tensorflow:Created variable embedding_matrix_3:0 with shape (8970, 16) and init <function _initializer at 0x7f5389198aa0>\n",
      "INFO:tensorflow:Created variable bias_0:0 with shape (512,) and init <function _initializer at 0x7f6dea5ebb18>\n",
      "INFO:tensorflow:Created variable embedding_matrix_4:0 with shape (8970, 16) and init <function _initializer at 0x7f53891aacf8>\n",
      "INFO:tensorflow:Created variable weights_1:0 with shape (512, 512) and init <function _initializer at 0x7f6de84419b0>\n",
      "INFO:tensorflow:Created variable bias_1:0 with shape (512,) and init <function _initializer at 0x7f6dea5ebb18>\n",
      "INFO:tensorflow:Created variable embedding_matrix_5:0 with shape (64038, 64) and init <function _initializer at 0x7f53890f7de8>\n",
      "INFO:tensorflow:Created variable softmax_weight:0 with shape (512, 93) and init <function _initializer at 0x7f6de836a7d0>\n",
      "INFO:tensorflow:Created variable weights_0:0 with shape (1040, 64) and init <function _initializer at 0x7f53890727d0>\n",
      "INFO:tensorflow:Created variable softmax_bias:0 with shape (93,) and init <function zeros_initializer at 0x7f6dec517c80>\n",
      "INFO:tensorflow:Created variable bias_0:0 with shape (64,) and init <function _initializer at 0x7f538d33bb18>\n",
      "INFO:tensorflow:Created variable softmax_weight:0 with shape (64, 49) and init <function _initializer at 0x7f5388fe57d0>\n",
      "INFO:tensorflow:Created variable softmax_bias:0 with shape (49,) and init <function zeros_initializer at 0x7f538f267c80>\n",
      "I syntaxnet/term_frequency_map.cc:101] Loaded 46 terms from syntaxnet/models/parsey_mcparseface/label-map.\n",
      "I syntaxnet/embedding_feature_extractor.cc:35] Features: stack.child(1).label stack.child(1).sibling(-1).label stack.child(-1).label stack.child(-1).sibling(1).label stack.child(2).label stack.child(-2).label stack(1).child(1).label stack(1).child(1).sibling(-1).label stack(1).child(-1).label stack(1).child(-1).sibling(1).label stack(1).child(2).label stack(1).child(-2).label; input.token.tag input(1).token.tag input(2).token.tag input(3).token.tag stack.token.tag stack.child(1).token.tag stack.child(1).sibling(-1).token.tag stack.child(-1).token.tag stack.child(-1).sibling(1).token.tag stack.child(2).token.tag stack.child(-2).token.tag stack(1).token.tag stack(1).child(1).token.tag stack(1).child(1).sibling(-1).token.tag stack(1).child(-1).token.tag stack(1).child(-1).sibling(1).token.tag stack(1).child(2).token.tag stack(1).child(-2).token.tag stack(2).token.tag stack(3).token.tag; input.token.word input(1).token.word input(2).token.word input(3).token.word stack.token.word stack.child(1).token.word stack.child(1).sibling(-1).token.word stack.child(-1).token.word stack.child(-1).sibling(1).token.word stack.child(2).token.word stack.child(-2).token.word stack(1).token.word stack(1).child(1).token.word stack(1).child(1).sibling(-1).token.word stack(1).child(-1).token.word stack(1).child(-1).sibling(1).token.word stack(1).child(2).token.word stack(1).child(-2).token.word stack(2).token.word stack(3).token.word \n",
      "I syntaxnet/embedding_feature_extractor.cc:36] Embedding names: labels;tags;words\n",
      "I syntaxnet/embedding_feature_extractor.cc:37] Embedding dims: 32;32;64\n",
      "I syntaxnet/term_frequency_map.cc:101] Loaded 49 terms from syntaxnet/models/parsey_mcparseface/tag-map.\n",
      "I syntaxnet/term_frequency_map.cc:101] Loaded 64036 terms from syntaxnet/models/parsey_mcparseface/word-map.\n",
      "I syntaxnet/term_frequency_map.cc:101] Loaded 49 terms from syntaxnet/models/parsey_mcparseface/tag-map.\n",
      "I syntaxnet/term_frequency_map.cc:101] Loaded 46 terms from syntaxnet/models/parsey_mcparseface/label-map.\n",
      "I syntaxnet/embedding_feature_extractor.cc:35] Features: input.digit input.hyphen; input.prefix(length=\"2\") input(1).prefix(length=\"2\") input(2).prefix(length=\"2\") input(3).prefix(length=\"2\") input(-1).prefix(length=\"2\") input(-2).prefix(length=\"2\") input(-3).prefix(length=\"2\") input(-4).prefix(length=\"2\"); input.prefix(length=\"3\") input(1).prefix(length=\"3\") input(2).prefix(length=\"3\") input(3).prefix(length=\"3\") input(-1).prefix(length=\"3\") input(-2).prefix(length=\"3\") input(-3).prefix(length=\"3\") input(-4).prefix(length=\"3\"); input.suffix(length=\"2\") input(1).suffix(length=\"2\") input(2).suffix(length=\"2\") input(3).suffix(length=\"2\") input(-1).suffix(length=\"2\") input(-2).suffix(length=\"2\") input(-3).suffix(length=\"2\") input(-4).suffix(length=\"2\"); input.suffix(length=\"3\") input(1).suffix(length=\"3\") input(2).suffix(length=\"3\") input(3).suffix(length=\"3\") input(-1).suffix(length=\"3\") input(-2).suffix(length=\"3\") input(-3).suffix(length=\"3\") input(-4).suffix(length=\"3\"); input.token.word input(1).token.word input(2).token.word input(3).token.word input(-1).token.word input(-2).token.word input(-3).token.word input(-4).token.word \n",
      "I syntaxnet/embedding_feature_extractor.cc:36] Embedding names: other;prefix2;prefix3;suffix2;suffix3;words\n",
      "I syntaxnet/embedding_feature_extractor.cc:37] Embedding dims: 8;16;16;16;16;64\n",
      "I syntaxnet/term_frequency_map.cc:101] Loaded 64036 terms from syntaxnet/models/parsey_mcparseface/word-map.\n",
      "INFO:tensorflow:Processed 1 documents\n",
      "INFO:tensorflow:Total processed documents: 1\n",
      "INFO:tensorflow:num correct tokens: 0\n",
      "INFO:tensorflow:total tokens: 3\n",
      "INFO:tensorflow:Seconds elapsed in evaluation: 0.06, eval metric: 0.00%\n",
      "INFO:tensorflow:Processed 1 documents\n",
      "INFO:tensorflow:Total processed documents: 1\n",
      "INFO:tensorflow:num correct tokens: 1\n",
      "INFO:tensorflow:total tokens: 3\n",
      "INFO:tensorflow:Seconds elapsed in evaluation: 0.17, eval metric: 33.33%\n"
     ]
    }
   ],
   "source": [
    "%%bash --out output\n",
    "echo \"Name this boat\" | docker run --rm -i lavin-syntaxnet"
   ]
  },
  {
   "cell_type": "code",
   "execution_count": 14,
   "metadata": {
    "collapsed": false
   },
   "outputs": [
    {
     "data": {
      "text/plain": [
       "'1\\tName\\t_\\tVERB\\tVB\\t_\\t0\\tROOT\\t_\\t_\\n2\\tthis\\t_\\tDET\\tDT\\t_\\t3\\tdet\\t_\\t_\\n3\\tboat\\t_\\tNOUN\\tNN\\t_\\t1\\tdobj\\t_\\t_\\n\\n'"
      ]
     },
     "execution_count": 14,
     "metadata": {},
     "output_type": "execute_result"
    }
   ],
   "source": [
    "output"
   ]
  },
  {
   "cell_type": "code",
   "execution_count": null,
   "metadata": {
    "collapsed": true
   },
   "outputs": [],
   "source": []
  }
 ],
 "metadata": {
  "kernelspec": {
   "display_name": "Python 3",
   "language": "python",
   "name": "python3"
  },
  "language_info": {
   "codemirror_mode": {
    "name": "ipython",
    "version": 3
   },
   "file_extension": ".py",
   "mimetype": "text/x-python",
   "name": "python",
   "nbconvert_exporter": "python",
   "pygments_lexer": "ipython3",
   "version": "3.5.1"
  }
 },
 "nbformat": 4,
 "nbformat_minor": 0
}
